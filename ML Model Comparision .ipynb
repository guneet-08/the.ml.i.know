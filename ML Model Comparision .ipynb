{
 "cells": [
  {
   "cell_type": "code",
   "execution_count": 1,
   "id": "8ca0a98c",
   "metadata": {},
   "outputs": [],
   "source": [
    "#importing the required files for data pre-processing and visualisation\n",
    "import pandas as pd\n",
    "import numpy as np\n",
    "import matplotlib.pyplot as plt\n",
    "import seaborn as sns"
   ]
  },
  {
   "cell_type": "code",
   "execution_count": 2,
   "id": "7ef72ac4",
   "metadata": {},
   "outputs": [],
   "source": [
    "train_df = pd.read_csv(r\"D:\\Masai School\\Machine Learning\\Churn_Modelling - Train.csv\")\n",
    "test_df = pd.read_csv(r\"D:\\Masai School\\Machine Learning\\Churn_Modelling - Test.csv\")"
   ]
  },
  {
   "cell_type": "code",
   "execution_count": 3,
   "id": "21b3a3ce",
   "metadata": {},
   "outputs": [
    {
     "data": {
      "text/html": [
       "<div>\n",
       "<style scoped>\n",
       "    .dataframe tbody tr th:only-of-type {\n",
       "        vertical-align: middle;\n",
       "    }\n",
       "\n",
       "    .dataframe tbody tr th {\n",
       "        vertical-align: top;\n",
       "    }\n",
       "\n",
       "    .dataframe thead th {\n",
       "        text-align: right;\n",
       "    }\n",
       "</style>\n",
       "<table border=\"1\" class=\"dataframe\">\n",
       "  <thead>\n",
       "    <tr style=\"text-align: right;\">\n",
       "      <th></th>\n",
       "      <th>RowNumber</th>\n",
       "      <th>CustomerId</th>\n",
       "      <th>Surname</th>\n",
       "      <th>CreditScore</th>\n",
       "      <th>Geography</th>\n",
       "      <th>Gender</th>\n",
       "      <th>Age</th>\n",
       "      <th>Tenure</th>\n",
       "      <th>Balance</th>\n",
       "      <th>NumOfProducts</th>\n",
       "      <th>HasCrCard</th>\n",
       "      <th>IsActiveMember</th>\n",
       "      <th>EstimatedSalary</th>\n",
       "      <th>Exited</th>\n",
       "    </tr>\n",
       "  </thead>\n",
       "  <tbody>\n",
       "    <tr>\n",
       "      <th>0</th>\n",
       "      <td>1</td>\n",
       "      <td>15634602</td>\n",
       "      <td>Hargrave</td>\n",
       "      <td>619</td>\n",
       "      <td>France</td>\n",
       "      <td>Female</td>\n",
       "      <td>42</td>\n",
       "      <td>2</td>\n",
       "      <td>0.00</td>\n",
       "      <td>1</td>\n",
       "      <td>1</td>\n",
       "      <td>1</td>\n",
       "      <td>101348.88</td>\n",
       "      <td>1</td>\n",
       "    </tr>\n",
       "    <tr>\n",
       "      <th>1</th>\n",
       "      <td>2</td>\n",
       "      <td>15647311</td>\n",
       "      <td>Hill</td>\n",
       "      <td>608</td>\n",
       "      <td>Spain</td>\n",
       "      <td>Female</td>\n",
       "      <td>41</td>\n",
       "      <td>1</td>\n",
       "      <td>83807.86</td>\n",
       "      <td>1</td>\n",
       "      <td>0</td>\n",
       "      <td>1</td>\n",
       "      <td>112542.58</td>\n",
       "      <td>0</td>\n",
       "    </tr>\n",
       "    <tr>\n",
       "      <th>2</th>\n",
       "      <td>3</td>\n",
       "      <td>15619304</td>\n",
       "      <td>Onio</td>\n",
       "      <td>502</td>\n",
       "      <td>France</td>\n",
       "      <td>Female</td>\n",
       "      <td>42</td>\n",
       "      <td>8</td>\n",
       "      <td>159660.80</td>\n",
       "      <td>3</td>\n",
       "      <td>1</td>\n",
       "      <td>0</td>\n",
       "      <td>113931.57</td>\n",
       "      <td>1</td>\n",
       "    </tr>\n",
       "    <tr>\n",
       "      <th>3</th>\n",
       "      <td>4</td>\n",
       "      <td>15701354</td>\n",
       "      <td>Boni</td>\n",
       "      <td>699</td>\n",
       "      <td>France</td>\n",
       "      <td>Female</td>\n",
       "      <td>39</td>\n",
       "      <td>1</td>\n",
       "      <td>0.00</td>\n",
       "      <td>2</td>\n",
       "      <td>0</td>\n",
       "      <td>0</td>\n",
       "      <td>93826.63</td>\n",
       "      <td>0</td>\n",
       "    </tr>\n",
       "    <tr>\n",
       "      <th>4</th>\n",
       "      <td>5</td>\n",
       "      <td>15737888</td>\n",
       "      <td>Mitchell</td>\n",
       "      <td>850</td>\n",
       "      <td>Spain</td>\n",
       "      <td>Female</td>\n",
       "      <td>43</td>\n",
       "      <td>2</td>\n",
       "      <td>125510.82</td>\n",
       "      <td>1</td>\n",
       "      <td>1</td>\n",
       "      <td>1</td>\n",
       "      <td>79084.10</td>\n",
       "      <td>0</td>\n",
       "    </tr>\n",
       "  </tbody>\n",
       "</table>\n",
       "</div>"
      ],
      "text/plain": [
       "   RowNumber  CustomerId   Surname  CreditScore Geography  Gender  Age  \\\n",
       "0          1    15634602  Hargrave          619    France  Female   42   \n",
       "1          2    15647311      Hill          608     Spain  Female   41   \n",
       "2          3    15619304      Onio          502    France  Female   42   \n",
       "3          4    15701354      Boni          699    France  Female   39   \n",
       "4          5    15737888  Mitchell          850     Spain  Female   43   \n",
       "\n",
       "   Tenure    Balance  NumOfProducts  HasCrCard  IsActiveMember  \\\n",
       "0       2       0.00              1          1               1   \n",
       "1       1   83807.86              1          0               1   \n",
       "2       8  159660.80              3          1               0   \n",
       "3       1       0.00              2          0               0   \n",
       "4       2  125510.82              1          1               1   \n",
       "\n",
       "   EstimatedSalary  Exited  \n",
       "0        101348.88       1  \n",
       "1        112542.58       0  \n",
       "2        113931.57       1  \n",
       "3         93826.63       0  \n",
       "4         79084.10       0  "
      ]
     },
     "execution_count": 3,
     "metadata": {},
     "output_type": "execute_result"
    }
   ],
   "source": [
    "train_df.head()"
   ]
  },
  {
   "cell_type": "code",
   "execution_count": 4,
   "id": "a2246bef",
   "metadata": {},
   "outputs": [
    {
     "data": {
      "text/html": [
       "<div>\n",
       "<style scoped>\n",
       "    .dataframe tbody tr th:only-of-type {\n",
       "        vertical-align: middle;\n",
       "    }\n",
       "\n",
       "    .dataframe tbody tr th {\n",
       "        vertical-align: top;\n",
       "    }\n",
       "\n",
       "    .dataframe thead th {\n",
       "        text-align: right;\n",
       "    }\n",
       "</style>\n",
       "<table border=\"1\" class=\"dataframe\">\n",
       "  <thead>\n",
       "    <tr style=\"text-align: right;\">\n",
       "      <th></th>\n",
       "      <th>RowNumber</th>\n",
       "      <th>CustomerId</th>\n",
       "      <th>Surname</th>\n",
       "      <th>CreditScore</th>\n",
       "      <th>Geography</th>\n",
       "      <th>Gender</th>\n",
       "      <th>Age</th>\n",
       "      <th>Tenure</th>\n",
       "      <th>Balance</th>\n",
       "      <th>NumOfProducts</th>\n",
       "      <th>HasCrCard</th>\n",
       "      <th>IsActiveMember</th>\n",
       "      <th>EstimatedSalary</th>\n",
       "      <th>Exited</th>\n",
       "    </tr>\n",
       "  </thead>\n",
       "  <tbody>\n",
       "    <tr>\n",
       "      <th>0</th>\n",
       "      <td>1</td>\n",
       "      <td>15575492</td>\n",
       "      <td>Kennedy</td>\n",
       "      <td>828</td>\n",
       "      <td>France</td>\n",
       "      <td>Female</td>\n",
       "      <td>41</td>\n",
       "      <td>7</td>\n",
       "      <td>0.00</td>\n",
       "      <td>2</td>\n",
       "      <td>1</td>\n",
       "      <td>0</td>\n",
       "      <td>171378.77</td>\n",
       "      <td>0</td>\n",
       "    </tr>\n",
       "    <tr>\n",
       "      <th>1</th>\n",
       "      <td>2</td>\n",
       "      <td>15591607</td>\n",
       "      <td>Fernie</td>\n",
       "      <td>770</td>\n",
       "      <td>France</td>\n",
       "      <td>Male</td>\n",
       "      <td>24</td>\n",
       "      <td>9</td>\n",
       "      <td>101827.07</td>\n",
       "      <td>1</td>\n",
       "      <td>1</td>\n",
       "      <td>0</td>\n",
       "      <td>167256.35</td>\n",
       "      <td>0</td>\n",
       "    </tr>\n",
       "    <tr>\n",
       "      <th>2</th>\n",
       "      <td>3</td>\n",
       "      <td>15740404</td>\n",
       "      <td>He</td>\n",
       "      <td>758</td>\n",
       "      <td>France</td>\n",
       "      <td>Female</td>\n",
       "      <td>34</td>\n",
       "      <td>3</td>\n",
       "      <td>0.00</td>\n",
       "      <td>2</td>\n",
       "      <td>1</td>\n",
       "      <td>1</td>\n",
       "      <td>124226.16</td>\n",
       "      <td>0</td>\n",
       "    </tr>\n",
       "    <tr>\n",
       "      <th>3</th>\n",
       "      <td>4</td>\n",
       "      <td>15718369</td>\n",
       "      <td>Kaodilinakachukwu</td>\n",
       "      <td>795</td>\n",
       "      <td>Germany</td>\n",
       "      <td>Female</td>\n",
       "      <td>33</td>\n",
       "      <td>9</td>\n",
       "      <td>130862.43</td>\n",
       "      <td>1</td>\n",
       "      <td>1</td>\n",
       "      <td>1</td>\n",
       "      <td>114935.21</td>\n",
       "      <td>0</td>\n",
       "    </tr>\n",
       "    <tr>\n",
       "      <th>4</th>\n",
       "      <td>5</td>\n",
       "      <td>15677871</td>\n",
       "      <td>Cocci</td>\n",
       "      <td>687</td>\n",
       "      <td>France</td>\n",
       "      <td>Male</td>\n",
       "      <td>38</td>\n",
       "      <td>9</td>\n",
       "      <td>122570.87</td>\n",
       "      <td>1</td>\n",
       "      <td>1</td>\n",
       "      <td>1</td>\n",
       "      <td>35608.88</td>\n",
       "      <td>0</td>\n",
       "    </tr>\n",
       "  </tbody>\n",
       "</table>\n",
       "</div>"
      ],
      "text/plain": [
       "   RowNumber  CustomerId            Surname  CreditScore Geography  Gender  \\\n",
       "0          1    15575492            Kennedy          828    France  Female   \n",
       "1          2    15591607             Fernie          770    France    Male   \n",
       "2          3    15740404                 He          758    France  Female   \n",
       "3          4    15718369  Kaodilinakachukwu          795   Germany  Female   \n",
       "4          5    15677871              Cocci          687    France    Male   \n",
       "\n",
       "   Age  Tenure    Balance  NumOfProducts  HasCrCard  IsActiveMember  \\\n",
       "0   41       7       0.00              2          1               0   \n",
       "1   24       9  101827.07              1          1               0   \n",
       "2   34       3       0.00              2          1               1   \n",
       "3   33       9  130862.43              1          1               1   \n",
       "4   38       9  122570.87              1          1               1   \n",
       "\n",
       "   EstimatedSalary  Exited  \n",
       "0        171378.77       0  \n",
       "1        167256.35       0  \n",
       "2        124226.16       0  \n",
       "3        114935.21       0  \n",
       "4         35608.88       0  "
      ]
     },
     "execution_count": 4,
     "metadata": {},
     "output_type": "execute_result"
    }
   ],
   "source": [
    "test_df.head()"
   ]
  },
  {
   "cell_type": "code",
   "execution_count": 5,
   "id": "27e35bbf",
   "metadata": {},
   "outputs": [
    {
     "name": "stdout",
     "output_type": "stream",
     "text": [
      "<class 'pandas.core.frame.DataFrame'>\n",
      "RangeIndex: 8194 entries, 0 to 8193\n",
      "Data columns (total 14 columns):\n",
      " #   Column           Non-Null Count  Dtype  \n",
      "---  ------           --------------  -----  \n",
      " 0   RowNumber        8194 non-null   int64  \n",
      " 1   CustomerId       8194 non-null   int64  \n",
      " 2   Surname          8193 non-null   object \n",
      " 3   CreditScore      8194 non-null   int64  \n",
      " 4   Geography        8194 non-null   object \n",
      " 5   Gender           8193 non-null   object \n",
      " 6   Age              8194 non-null   int64  \n",
      " 7   Tenure           8194 non-null   int64  \n",
      " 8   Balance          8192 non-null   float64\n",
      " 9   NumOfProducts    8194 non-null   int64  \n",
      " 10  HasCrCard        8194 non-null   int64  \n",
      " 11  IsActiveMember   8194 non-null   int64  \n",
      " 12  EstimatedSalary  8194 non-null   float64\n",
      " 13  Exited           8194 non-null   int64  \n",
      "dtypes: float64(2), int64(9), object(3)\n",
      "memory usage: 896.3+ KB\n"
     ]
    }
   ],
   "source": [
    "#cleaning the data in both the datasets:\n",
    "train_df.info()"
   ]
  },
  {
   "cell_type": "code",
   "execution_count": 9,
   "id": "77174872",
   "metadata": {},
   "outputs": [
    {
     "data": {
      "text/plain": [
       "0.00         2968\n",
       "105473.74       2\n",
       "127806.91       1\n",
       "119545.48       1\n",
       "90727.79        1\n",
       "             ... \n",
       "112949.71       1\n",
       "141789.15       1\n",
       "98592.88        1\n",
       "125739.26       1\n",
       "101891.10       1\n",
       "Name: Balance, Length: 5224, dtype: int64"
      ]
     },
     "execution_count": 9,
     "metadata": {},
     "output_type": "execute_result"
    }
   ],
   "source": [
    "#nulls found in balance, gender and surname:\n",
    "train_df['Balance'].value_counts()"
   ]
  },
  {
   "cell_type": "code",
   "execution_count": 10,
   "id": "6a9b469d",
   "metadata": {},
   "outputs": [],
   "source": [
    "#replacing with their modes: (the most occuring data in their respective columns)\n",
    "cols = ['Balance','Gender','Surname']\n",
    "for i in cols:\n",
    "    train_df[i].fillna(train_df[i].mode()[0], inplace=True)"
   ]
  },
  {
   "cell_type": "code",
   "execution_count": 12,
   "id": "c9c99304",
   "metadata": {},
   "outputs": [
    {
     "name": "stdout",
     "output_type": "stream",
     "text": [
      "<class 'pandas.core.frame.DataFrame'>\n",
      "RangeIndex: 8194 entries, 0 to 8193\n",
      "Data columns (total 14 columns):\n",
      " #   Column           Non-Null Count  Dtype  \n",
      "---  ------           --------------  -----  \n",
      " 0   RowNumber        8194 non-null   int64  \n",
      " 1   CustomerId       8194 non-null   int64  \n",
      " 2   Surname          8194 non-null   object \n",
      " 3   CreditScore      8194 non-null   int64  \n",
      " 4   Geography        8194 non-null   object \n",
      " 5   Gender           8194 non-null   object \n",
      " 6   Age              8194 non-null   int64  \n",
      " 7   Tenure           8194 non-null   int64  \n",
      " 8   Balance          8194 non-null   float64\n",
      " 9   NumOfProducts    8194 non-null   int64  \n",
      " 10  HasCrCard        8194 non-null   int64  \n",
      " 11  IsActiveMember   8194 non-null   int64  \n",
      " 12  EstimatedSalary  8194 non-null   float64\n",
      " 13  Exited           8194 non-null   int64  \n",
      "dtypes: float64(2), int64(9), object(3)\n",
      "memory usage: 896.3+ KB\n"
     ]
    }
   ],
   "source": [
    "train_df.info()"
   ]
  },
  {
   "cell_type": "code",
   "execution_count": 13,
   "id": "f31b5f44",
   "metadata": {},
   "outputs": [
    {
     "name": "stdout",
     "output_type": "stream",
     "text": [
      "<class 'pandas.core.frame.DataFrame'>\n",
      "RangeIndex: 1806 entries, 0 to 1805\n",
      "Data columns (total 14 columns):\n",
      " #   Column           Non-Null Count  Dtype  \n",
      "---  ------           --------------  -----  \n",
      " 0   RowNumber        1806 non-null   int64  \n",
      " 1   CustomerId       1806 non-null   int64  \n",
      " 2   Surname          1806 non-null   object \n",
      " 3   CreditScore      1806 non-null   int64  \n",
      " 4   Geography        1806 non-null   object \n",
      " 5   Gender           1806 non-null   object \n",
      " 6   Age              1806 non-null   int64  \n",
      " 7   Tenure           1806 non-null   int64  \n",
      " 8   Balance          1806 non-null   float64\n",
      " 9   NumOfProducts    1806 non-null   int64  \n",
      " 10  HasCrCard        1806 non-null   int64  \n",
      " 11  IsActiveMember   1806 non-null   int64  \n",
      " 12  EstimatedSalary  1806 non-null   float64\n",
      " 13  Exited           1806 non-null   int64  \n",
      "dtypes: float64(2), int64(9), object(3)\n",
      "memory usage: 197.7+ KB\n"
     ]
    }
   ],
   "source": [
    "#doing the same for test data:\n",
    "test_df.info()"
   ]
  },
  {
   "cell_type": "code",
   "execution_count": 15,
   "id": "ea474dd1",
   "metadata": {},
   "outputs": [
    {
     "data": {
      "text/html": [
       "<div>\n",
       "<style scoped>\n",
       "    .dataframe tbody tr th:only-of-type {\n",
       "        vertical-align: middle;\n",
       "    }\n",
       "\n",
       "    .dataframe tbody tr th {\n",
       "        vertical-align: top;\n",
       "    }\n",
       "\n",
       "    .dataframe thead th {\n",
       "        text-align: right;\n",
       "    }\n",
       "</style>\n",
       "<table border=\"1\" class=\"dataframe\">\n",
       "  <thead>\n",
       "    <tr style=\"text-align: right;\">\n",
       "      <th></th>\n",
       "      <th>RowNumber</th>\n",
       "      <th>CustomerId</th>\n",
       "      <th>Surname</th>\n",
       "      <th>CreditScore</th>\n",
       "      <th>Geography</th>\n",
       "      <th>Gender</th>\n",
       "      <th>Age</th>\n",
       "      <th>Tenure</th>\n",
       "      <th>Balance</th>\n",
       "      <th>NumOfProducts</th>\n",
       "      <th>HasCrCard</th>\n",
       "      <th>IsActiveMember</th>\n",
       "      <th>EstimatedSalary</th>\n",
       "      <th>Exited</th>\n",
       "    </tr>\n",
       "  </thead>\n",
       "  <tbody>\n",
       "    <tr>\n",
       "      <th>0</th>\n",
       "      <td>1</td>\n",
       "      <td>15634602</td>\n",
       "      <td>Hargrave</td>\n",
       "      <td>619</td>\n",
       "      <td>France</td>\n",
       "      <td>Female</td>\n",
       "      <td>42</td>\n",
       "      <td>2</td>\n",
       "      <td>0.00</td>\n",
       "      <td>1</td>\n",
       "      <td>1</td>\n",
       "      <td>1</td>\n",
       "      <td>101348.88</td>\n",
       "      <td>1</td>\n",
       "    </tr>\n",
       "    <tr>\n",
       "      <th>1</th>\n",
       "      <td>2</td>\n",
       "      <td>15647311</td>\n",
       "      <td>Hill</td>\n",
       "      <td>608</td>\n",
       "      <td>Spain</td>\n",
       "      <td>Female</td>\n",
       "      <td>41</td>\n",
       "      <td>1</td>\n",
       "      <td>83807.86</td>\n",
       "      <td>1</td>\n",
       "      <td>0</td>\n",
       "      <td>1</td>\n",
       "      <td>112542.58</td>\n",
       "      <td>0</td>\n",
       "    </tr>\n",
       "    <tr>\n",
       "      <th>2</th>\n",
       "      <td>3</td>\n",
       "      <td>15619304</td>\n",
       "      <td>Onio</td>\n",
       "      <td>502</td>\n",
       "      <td>France</td>\n",
       "      <td>Female</td>\n",
       "      <td>42</td>\n",
       "      <td>8</td>\n",
       "      <td>159660.80</td>\n",
       "      <td>3</td>\n",
       "      <td>1</td>\n",
       "      <td>0</td>\n",
       "      <td>113931.57</td>\n",
       "      <td>1</td>\n",
       "    </tr>\n",
       "    <tr>\n",
       "      <th>3</th>\n",
       "      <td>4</td>\n",
       "      <td>15701354</td>\n",
       "      <td>Boni</td>\n",
       "      <td>699</td>\n",
       "      <td>France</td>\n",
       "      <td>Female</td>\n",
       "      <td>39</td>\n",
       "      <td>1</td>\n",
       "      <td>0.00</td>\n",
       "      <td>2</td>\n",
       "      <td>0</td>\n",
       "      <td>0</td>\n",
       "      <td>93826.63</td>\n",
       "      <td>0</td>\n",
       "    </tr>\n",
       "    <tr>\n",
       "      <th>4</th>\n",
       "      <td>5</td>\n",
       "      <td>15737888</td>\n",
       "      <td>Mitchell</td>\n",
       "      <td>850</td>\n",
       "      <td>Spain</td>\n",
       "      <td>Female</td>\n",
       "      <td>43</td>\n",
       "      <td>2</td>\n",
       "      <td>125510.82</td>\n",
       "      <td>1</td>\n",
       "      <td>1</td>\n",
       "      <td>1</td>\n",
       "      <td>79084.10</td>\n",
       "      <td>0</td>\n",
       "    </tr>\n",
       "  </tbody>\n",
       "</table>\n",
       "</div>"
      ],
      "text/plain": [
       "   RowNumber  CustomerId   Surname  CreditScore Geography  Gender  Age  \\\n",
       "0          1    15634602  Hargrave          619    France  Female   42   \n",
       "1          2    15647311      Hill          608     Spain  Female   41   \n",
       "2          3    15619304      Onio          502    France  Female   42   \n",
       "3          4    15701354      Boni          699    France  Female   39   \n",
       "4          5    15737888  Mitchell          850     Spain  Female   43   \n",
       "\n",
       "   Tenure    Balance  NumOfProducts  HasCrCard  IsActiveMember  \\\n",
       "0       2       0.00              1          1               1   \n",
       "1       1   83807.86              1          0               1   \n",
       "2       8  159660.80              3          1               0   \n",
       "3       1       0.00              2          0               0   \n",
       "4       2  125510.82              1          1               1   \n",
       "\n",
       "   EstimatedSalary  Exited  \n",
       "0        101348.88       1  \n",
       "1        112542.58       0  \n",
       "2        113931.57       1  \n",
       "3         93826.63       0  \n",
       "4         79084.10       0  "
      ]
     },
     "execution_count": 15,
     "metadata": {},
     "output_type": "execute_result"
    }
   ],
   "source": [
    "#test data is fine\n",
    "#now removing unwated columns from train and test\n",
    "train_df.head()"
   ]
  },
  {
   "cell_type": "code",
   "execution_count": 16,
   "id": "c5249194",
   "metadata": {},
   "outputs": [],
   "source": [
    "unwanted = ['RowNumber','CustomerId','Surname']\n",
    "#dropping them\n",
    "train_df.drop(columns=unwanted, inplace=True)\n",
    "test_df.drop(columns=unwanted, inplace=True)"
   ]
  },
  {
   "cell_type": "code",
   "execution_count": 17,
   "id": "d63b812d",
   "metadata": {},
   "outputs": [
    {
     "data": {
      "text/html": [
       "<div>\n",
       "<style scoped>\n",
       "    .dataframe tbody tr th:only-of-type {\n",
       "        vertical-align: middle;\n",
       "    }\n",
       "\n",
       "    .dataframe tbody tr th {\n",
       "        vertical-align: top;\n",
       "    }\n",
       "\n",
       "    .dataframe thead th {\n",
       "        text-align: right;\n",
       "    }\n",
       "</style>\n",
       "<table border=\"1\" class=\"dataframe\">\n",
       "  <thead>\n",
       "    <tr style=\"text-align: right;\">\n",
       "      <th></th>\n",
       "      <th>CreditScore</th>\n",
       "      <th>Age</th>\n",
       "      <th>Tenure</th>\n",
       "      <th>Balance</th>\n",
       "      <th>NumOfProducts</th>\n",
       "      <th>HasCrCard</th>\n",
       "      <th>IsActiveMember</th>\n",
       "      <th>EstimatedSalary</th>\n",
       "      <th>Exited</th>\n",
       "    </tr>\n",
       "  </thead>\n",
       "  <tbody>\n",
       "    <tr>\n",
       "      <th>CreditScore</th>\n",
       "      <td>1.000000</td>\n",
       "      <td>0.008548</td>\n",
       "      <td>0.001329</td>\n",
       "      <td>0.005045</td>\n",
       "      <td>0.012642</td>\n",
       "      <td>-0.008380</td>\n",
       "      <td>0.029692</td>\n",
       "      <td>0.006515</td>\n",
       "      <td>-0.021186</td>\n",
       "    </tr>\n",
       "    <tr>\n",
       "      <th>Age</th>\n",
       "      <td>0.008548</td>\n",
       "      <td>1.000000</td>\n",
       "      <td>-0.015516</td>\n",
       "      <td>0.028188</td>\n",
       "      <td>-0.024463</td>\n",
       "      <td>-0.018272</td>\n",
       "      <td>0.077033</td>\n",
       "      <td>-0.007424</td>\n",
       "      <td>0.284628</td>\n",
       "    </tr>\n",
       "    <tr>\n",
       "      <th>Tenure</th>\n",
       "      <td>0.001329</td>\n",
       "      <td>-0.015516</td>\n",
       "      <td>1.000000</td>\n",
       "      <td>-0.004105</td>\n",
       "      <td>0.011210</td>\n",
       "      <td>0.027418</td>\n",
       "      <td>-0.037456</td>\n",
       "      <td>0.007270</td>\n",
       "      <td>-0.012214</td>\n",
       "    </tr>\n",
       "    <tr>\n",
       "      <th>Balance</th>\n",
       "      <td>0.005045</td>\n",
       "      <td>0.028188</td>\n",
       "      <td>-0.004105</td>\n",
       "      <td>1.000000</td>\n",
       "      <td>-0.302549</td>\n",
       "      <td>-0.019614</td>\n",
       "      <td>-0.006096</td>\n",
       "      <td>0.013628</td>\n",
       "      <td>0.121207</td>\n",
       "    </tr>\n",
       "    <tr>\n",
       "      <th>NumOfProducts</th>\n",
       "      <td>0.012642</td>\n",
       "      <td>-0.024463</td>\n",
       "      <td>0.011210</td>\n",
       "      <td>-0.302549</td>\n",
       "      <td>1.000000</td>\n",
       "      <td>0.004442</td>\n",
       "      <td>0.008776</td>\n",
       "      <td>0.017637</td>\n",
       "      <td>-0.044445</td>\n",
       "    </tr>\n",
       "    <tr>\n",
       "      <th>HasCrCard</th>\n",
       "      <td>-0.008380</td>\n",
       "      <td>-0.018272</td>\n",
       "      <td>0.027418</td>\n",
       "      <td>-0.019614</td>\n",
       "      <td>0.004442</td>\n",
       "      <td>1.000000</td>\n",
       "      <td>-0.012938</td>\n",
       "      <td>-0.016548</td>\n",
       "      <td>-0.011070</td>\n",
       "    </tr>\n",
       "    <tr>\n",
       "      <th>IsActiveMember</th>\n",
       "      <td>0.029692</td>\n",
       "      <td>0.077033</td>\n",
       "      <td>-0.037456</td>\n",
       "      <td>-0.006096</td>\n",
       "      <td>0.008776</td>\n",
       "      <td>-0.012938</td>\n",
       "      <td>1.000000</td>\n",
       "      <td>-0.004281</td>\n",
       "      <td>-0.154346</td>\n",
       "    </tr>\n",
       "    <tr>\n",
       "      <th>EstimatedSalary</th>\n",
       "      <td>0.006515</td>\n",
       "      <td>-0.007424</td>\n",
       "      <td>0.007270</td>\n",
       "      <td>0.013628</td>\n",
       "      <td>0.017637</td>\n",
       "      <td>-0.016548</td>\n",
       "      <td>-0.004281</td>\n",
       "      <td>1.000000</td>\n",
       "      <td>0.011446</td>\n",
       "    </tr>\n",
       "    <tr>\n",
       "      <th>Exited</th>\n",
       "      <td>-0.021186</td>\n",
       "      <td>0.284628</td>\n",
       "      <td>-0.012214</td>\n",
       "      <td>0.121207</td>\n",
       "      <td>-0.044445</td>\n",
       "      <td>-0.011070</td>\n",
       "      <td>-0.154346</td>\n",
       "      <td>0.011446</td>\n",
       "      <td>1.000000</td>\n",
       "    </tr>\n",
       "  </tbody>\n",
       "</table>\n",
       "</div>"
      ],
      "text/plain": [
       "                 CreditScore       Age    Tenure   Balance  NumOfProducts  \\\n",
       "CreditScore         1.000000  0.008548  0.001329  0.005045       0.012642   \n",
       "Age                 0.008548  1.000000 -0.015516  0.028188      -0.024463   \n",
       "Tenure              0.001329 -0.015516  1.000000 -0.004105       0.011210   \n",
       "Balance             0.005045  0.028188 -0.004105  1.000000      -0.302549   \n",
       "NumOfProducts       0.012642 -0.024463  0.011210 -0.302549       1.000000   \n",
       "HasCrCard          -0.008380 -0.018272  0.027418 -0.019614       0.004442   \n",
       "IsActiveMember      0.029692  0.077033 -0.037456 -0.006096       0.008776   \n",
       "EstimatedSalary     0.006515 -0.007424  0.007270  0.013628       0.017637   \n",
       "Exited             -0.021186  0.284628 -0.012214  0.121207      -0.044445   \n",
       "\n",
       "                 HasCrCard  IsActiveMember  EstimatedSalary    Exited  \n",
       "CreditScore      -0.008380        0.029692         0.006515 -0.021186  \n",
       "Age              -0.018272        0.077033        -0.007424  0.284628  \n",
       "Tenure            0.027418       -0.037456         0.007270 -0.012214  \n",
       "Balance          -0.019614       -0.006096         0.013628  0.121207  \n",
       "NumOfProducts     0.004442        0.008776         0.017637 -0.044445  \n",
       "HasCrCard         1.000000       -0.012938        -0.016548 -0.011070  \n",
       "IsActiveMember   -0.012938        1.000000        -0.004281 -0.154346  \n",
       "EstimatedSalary  -0.016548       -0.004281         1.000000  0.011446  \n",
       "Exited           -0.011070       -0.154346         0.011446  1.000000  "
      ]
     },
     "execution_count": 17,
     "metadata": {},
     "output_type": "execute_result"
    }
   ],
   "source": [
    "#finding the correlation between various columns:\n",
    "train_df.corr()"
   ]
  },
  {
   "cell_type": "code",
   "execution_count": 19,
   "id": "5dd0a00a",
   "metadata": {},
   "outputs": [
    {
     "data": {
      "text/plain": [
       "<AxesSubplot:>"
      ]
     },
     "execution_count": 19,
     "metadata": {},
     "output_type": "execute_result"
    },
    {
     "data": {
      "image/png": "[encoded data removed]",
      "text/plain": [
       "<Figure size 640x480 with 2 Axes>"
      ]
     },
     "metadata": {},
     "output_type": "display_data"
    }
   ],
   "source": [
    "sns.heatmap(train_df.corr(), annot=True)"
   ]
  },
  {
   "cell_type": "code",
   "execution_count": 20,
   "id": "63940d5f",
   "metadata": {},
   "outputs": [],
   "source": [
    "#the highest correlation can be seen for the columns: EXITED and AGE (pos corr)\n",
    "#followeed by EXITED and ISACTIVEMEMBER (negative corr)"
   ]
  },
  {
   "cell_type": "code",
   "execution_count": 24,
   "id": "e1d90e1f",
   "metadata": {},
   "outputs": [
    {
     "data": {
      "text/html": [
       "<div>\n",
       "<style scoped>\n",
       "    .dataframe tbody tr th:only-of-type {\n",
       "        vertical-align: middle;\n",
       "    }\n",
       "\n",
       "    .dataframe tbody tr th {\n",
       "        vertical-align: top;\n",
       "    }\n",
       "\n",
       "    .dataframe thead th {\n",
       "        text-align: right;\n",
       "    }\n",
       "</style>\n",
       "<table border=\"1\" class=\"dataframe\">\n",
       "  <thead>\n",
       "    <tr style=\"text-align: right;\">\n",
       "      <th></th>\n",
       "      <th>CreditScore</th>\n",
       "      <th>Geography</th>\n",
       "      <th>Gender</th>\n",
       "      <th>Age</th>\n",
       "      <th>Tenure</th>\n",
       "      <th>Balance</th>\n",
       "      <th>NumOfProducts</th>\n",
       "      <th>HasCrCard</th>\n",
       "      <th>IsActiveMember</th>\n",
       "      <th>EstimatedSalary</th>\n",
       "      <th>Exited</th>\n",
       "    </tr>\n",
       "  </thead>\n",
       "  <tbody>\n",
       "    <tr>\n",
       "      <th>0</th>\n",
       "      <td>619</td>\n",
       "      <td>France</td>\n",
       "      <td>Female</td>\n",
       "      <td>42</td>\n",
       "      <td>2</td>\n",
       "      <td>0.00</td>\n",
       "      <td>1</td>\n",
       "      <td>1</td>\n",
       "      <td>1</td>\n",
       "      <td>101348.88</td>\n",
       "      <td>1</td>\n",
       "    </tr>\n",
       "    <tr>\n",
       "      <th>1</th>\n",
       "      <td>608</td>\n",
       "      <td>Spain</td>\n",
       "      <td>Female</td>\n",
       "      <td>41</td>\n",
       "      <td>1</td>\n",
       "      <td>83807.86</td>\n",
       "      <td>1</td>\n",
       "      <td>0</td>\n",
       "      <td>1</td>\n",
       "      <td>112542.58</td>\n",
       "      <td>0</td>\n",
       "    </tr>\n",
       "  </tbody>\n",
       "</table>\n",
       "</div>"
      ],
      "text/plain": [
       "   CreditScore Geography  Gender  Age  Tenure   Balance  NumOfProducts  \\\n",
       "0          619    France  Female   42       2      0.00              1   \n",
       "1          608     Spain  Female   41       1  83807.86              1   \n",
       "\n",
       "   HasCrCard  IsActiveMember  EstimatedSalary  Exited  \n",
       "0          1               1        101348.88       1  \n",
       "1          0               1        112542.58       0  "
      ]
     },
     "execution_count": 24,
     "metadata": {},
     "output_type": "execute_result"
    }
   ],
   "source": [
    "#applying scaling and encoding on the data set (on training only):\n",
    "train_df.head(2)"
   ]
  },
  {
   "cell_type": "code",
   "execution_count": 26,
   "id": "9ba090a0",
   "metadata": {},
   "outputs": [],
   "source": [
    "from sklearn.preprocessing import StandardScaler\n",
    "sc = StandardScaler()\n",
    "from sklearn.preprocessing import LabelEncoder\n",
    "le = LabelEncoder()"
   ]
  },
  {
   "cell_type": "code",
   "execution_count": 27,
   "id": "9cea2859",
   "metadata": {},
   "outputs": [],
   "source": [
    "cont_cols = ['CreditScore','Age','Balance']\n",
    "dis_cols = ['Geography','Gender']\n",
    "\n",
    "for i in dis_cols:\n",
    "    train_df[i] = le.fit_transform(train_df[i])\n",
    "    test_df[i] = le.fit_transform(test_df[i])"
   ]
  },
  {
   "cell_type": "code",
   "execution_count": 29,
   "id": "70d3d7a6",
   "metadata": {},
   "outputs": [],
   "source": [
    "#SPLITTING THE DATA BEFORE SCALING IT\n",
    "Xtrain = train_df.iloc[:,:-2].values\n",
    "Ytrain = train_df.iloc[:,-2].values\n",
    "Xtest = test_df.iloc[:,:-2].values\n",
    "Ytest = test_df.iloc[:,-2].values"
   ]
  },
  {
   "cell_type": "code",
   "execution_count": 30,
   "id": "0f798cb2",
   "metadata": {},
   "outputs": [
    {
     "data": {
      "text/plain": [
       "array([[619.,   0.,   0., ...,   1.,   1.,   1.],\n",
       "       [608.,   2.,   0., ...,   1.,   0.,   1.],\n",
       "       [502.,   0.,   0., ...,   3.,   1.,   0.],\n",
       "       ...,\n",
       "       [795.,   0.,   0., ...,   1.,   1.,   1.],\n",
       "       [678.,   2.,   0., ...,   2.,   1.,   1.],\n",
       "       [589.,   0.,   1., ...,   1.,   1.,   0.]])"
      ]
     },
     "execution_count": 30,
     "metadata": {},
     "output_type": "execute_result"
    }
   ],
   "source": [
    "Xtrain"
   ]
  },
  {
   "cell_type": "code",
   "execution_count": 32,
   "id": "a428d95d",
   "metadata": {},
   "outputs": [
    {
     "data": {
      "text/plain": [
       "array([101348.88, 112542.58, 113931.57, ..., 183044.86, 159938.82,\n",
       "        95483.48])"
      ]
     },
     "execution_count": 32,
     "metadata": {},
     "output_type": "execute_result"
    }
   ],
   "source": [
    "Ytrain"
   ]
  },
  {
   "cell_type": "code",
   "execution_count": 33,
   "id": "7c8ff76a",
   "metadata": {},
   "outputs": [],
   "source": [
    "#now scaling the data before proceeding:\n",
    "Xtrain = sc.fit_transform(Xtrain)\n",
    "Xtest = sc.transform(Xtest)"
   ]
  },
  {
   "cell_type": "code",
   "execution_count": 34,
   "id": "b06d101d",
   "metadata": {},
   "outputs": [
    {
     "data": {
      "text/plain": [
       "array([[-0.32458355, -0.90932218, -1.09964577, ..., -0.91494271,\n",
       "         0.64303168,  0.97088971],\n",
       "       [-0.43810788,  1.50434349, -1.09964577, ..., -0.91494271,\n",
       "        -1.55513334,  0.97088971],\n",
       "       [-1.53206959, -0.90932218, -1.09964577, ...,  2.51541215,\n",
       "         0.64303168, -1.0299831 ],\n",
       "       ...,\n",
       "       [ 1.4918057 , -0.90932218, -1.09964577, ..., -0.91494271,\n",
       "         0.64303168,  0.97088971],\n",
       "       [ 0.28431966,  1.50434349, -1.09964577, ...,  0.80023472,\n",
       "         0.64303168,  0.97088971],\n",
       "       [-0.63419536, -0.90932218,  0.90938376, ..., -0.91494271,\n",
       "         0.64303168, -1.0299831 ]])"
      ]
     },
     "execution_count": 34,
     "metadata": {},
     "output_type": "execute_result"
    }
   ],
   "source": [
    "Xtrain"
   ]
  },
  {
   "cell_type": "code",
   "execution_count": 35,
   "id": "1b301a6a",
   "metadata": {},
   "outputs": [],
   "source": [
    "#data is now scaled"
   ]
  },
  {
   "cell_type": "code",
   "execution_count": 36,
   "id": "f5923d7d",
   "metadata": {},
   "outputs": [],
   "source": [
    "#LINEAR REGRESSION MODEL\n",
    "from sklearn.linear_model import LinearRegression\n",
    "reg = LinearRegression()"
   ]
  },
  {
   "cell_type": "code",
   "execution_count": 37,
   "id": "0f12b6ca",
   "metadata": {},
   "outputs": [
    {
     "data": {
      "text/plain": [
       "LinearRegression()"
      ]
     },
     "execution_count": 37,
     "metadata": {},
     "output_type": "execute_result"
    }
   ],
   "source": [
    "reg.fit(Xtrain, Ytrain)"
   ]
  },
  {
   "cell_type": "code",
   "execution_count": 38,
   "id": "708735de",
   "metadata": {},
   "outputs": [],
   "source": [
    "Ypred_reg = reg.predict(Xtest)"
   ]
  },
  {
   "cell_type": "code",
   "execution_count": 39,
   "id": "4ec81d4d",
   "metadata": {},
   "outputs": [
    {
     "data": {
      "text/plain": [
       "100247.79690017086"
      ]
     },
     "execution_count": 39,
     "metadata": {},
     "output_type": "execute_result"
    }
   ],
   "source": [
    "#finding the training coefficients:\n",
    "\n",
    "#the intercept:\n",
    "reg.intercept_"
   ]
  },
  {
   "cell_type": "code",
   "execution_count": 40,
   "id": "2fb546aa",
   "metadata": {},
   "outputs": [
    {
     "data": {
      "text/plain": [
       "array([ 350.58997765,  201.59508473, -286.72008348, -439.25450123,\n",
       "        422.4264307 , 1172.98488202, 1345.70020608, -952.19309688,\n",
       "       -220.12900086])"
      ]
     },
     "execution_count": 40,
     "metadata": {},
     "output_type": "execute_result"
    }
   ],
   "source": [
    "#the coeffecients\n",
    "reg.coef_"
   ]
  },
  {
   "cell_type": "code",
   "execution_count": 44,
   "id": "7baf74d0",
   "metadata": {},
   "outputs": [
    {
     "data": {
      "text/plain": [
       "-0.001579581459036472"
      ]
     },
     "execution_count": 44,
     "metadata": {},
     "output_type": "execute_result"
    }
   ],
   "source": [
    "from sklearn import metrics\n",
    "#the accuracy score of the model:\n",
    "metrics.r2_score(Ytest, Ypred_reg)"
   ]
  },
  {
   "cell_type": "code",
   "execution_count": 45,
   "id": "fbdd19c8",
   "metadata": {},
   "outputs": [],
   "source": [
    "#the value is NEGATIVE!!! That means this is a very bad linear regression model for predicting the Estimated Salary"
   ]
  },
  {
   "cell_type": "code",
   "execution_count": 49,
   "id": "eb523912",
   "metadata": {},
   "outputs": [
    {
     "name": "stdout",
     "output_type": "stream",
     "text": [
      "--- Salary Classification ---\n",
      "No of people with High Salaray: 917\n",
      "No of people with Medium Salaray: 889\n",
      "No of people with Low Salaray: 0\n"
     ]
    }
   ],
   "source": [
    "#creating a funtion which categorises number of people based on their estimated salaries:\n",
    "#USING YPRED_REG for the estimated salary (the ones, our model predicted for Y_TEST)\n",
    "\n",
    "def salary_category(array):\n",
    "    low, med, high = 0,0,0\n",
    "    for i in array:\n",
    "        if i >= 100000:\n",
    "            high += 1\n",
    "        elif i>=50000 and i<=100000:\n",
    "            med += 1\n",
    "        else:\n",
    "            low += 1\n",
    "    \n",
    "    print(\"---\",\"Salary Classification\",\"---\")\n",
    "    print(\"No of people with High Salaray:\",high)\n",
    "    print(\"No of people with Medium Salaray:\",med)\n",
    "    print(\"No of people with Low Salaray:\",low)\n",
    "    \n",
    "\n",
    "salary_category(Ypred_reg)"
   ]
  },
  {
   "cell_type": "code",
   "execution_count": 53,
   "id": "8c625281",
   "metadata": {},
   "outputs": [
    {
     "data": {
      "text/plain": [
       "<function __main__.estimate_sal(value_arr)>"
      ]
     },
     "execution_count": 53,
     "metadata": {},
     "output_type": "execute_result"
    }
   ],
   "source": [
    "#creating a function to estimate salary:\n",
    "\n",
    "#RowNumber - 15, CustomerId -\n",
    "#23456789, Surname - Ohio, CreditScore - 608, \n",
    "#Geography - France, Gender - Male,\n",
    "#Age - 44, Tenure - 1, Balance - 66769.16, \n",
    "#NumOfProducts - 0, HasCrCard - 1, and\n",
    "#IsActiveMember-1.\n",
    "\n",
    "#not including rownumber, customerid and surname \n",
    "#as we havent considered them before as well\n",
    "\n",
    "value_arr = [608,'France', 'Male', 44, 1, 66769.16, 0, 1, 1]\n",
    "\n",
    "def estimate_sal(value_arr):\n",
    "    ans = reg.predict([value_arr])\n",
    "    return ans\n",
    "\n",
    "estimate_sal"
   ]
  },
  {
   "cell_type": "code",
   "execution_count": 54,
   "id": "022549a6",
   "metadata": {},
   "outputs": [],
   "source": [
    "#NOW LOGISTIC REGRESSION:\n",
    "\n",
    "from sklearn.linear_model import LogisticRegression\n",
    "logr = LogisticRegression()"
   ]
  },
  {
   "cell_type": "code",
   "execution_count": 59,
   "id": "8161b879",
   "metadata": {},
   "outputs": [],
   "source": [
    "#xtrain and xtest will be the same but including \n",
    "#ESTIMATED SALARY now\n",
    "#changing ytrain and ytest for EXITED :\n",
    "\n",
    "Xtrain = train_df.iloc[:,:-1].values\n",
    "Ytrain = train_df.iloc[:,-1].values\n",
    "Xtest = test_df.iloc[:,:-1].values\n",
    "Ytest = test_df.iloc[:,-1].values"
   ]
  },
  {
   "cell_type": "code",
   "execution_count": 60,
   "id": "4fa5494e",
   "metadata": {},
   "outputs": [
    {
     "data": {
      "text/plain": [
       "array([1, 0, 1, ..., 0, 0, 1], dtype=int64)"
      ]
     },
     "execution_count": 60,
     "metadata": {},
     "output_type": "execute_result"
    }
   ],
   "source": [
    "Ytrain"
   ]
  },
  {
   "cell_type": "code",
   "execution_count": 61,
   "id": "03a45572",
   "metadata": {},
   "outputs": [
    {
     "data": {
      "text/plain": [
       "LogisticRegression()"
      ]
     },
     "execution_count": 61,
     "metadata": {},
     "output_type": "execute_result"
    }
   ],
   "source": [
    "logr.fit(Xtrain, Ytrain) #training the model"
   ]
  },
  {
   "cell_type": "code",
   "execution_count": 62,
   "id": "f013866f",
   "metadata": {},
   "outputs": [],
   "source": [
    "Ypred_logr = logr.predict(Xtest) #the predictions on test data"
   ]
  },
  {
   "cell_type": "code",
   "execution_count": 63,
   "id": "52def396",
   "metadata": {},
   "outputs": [
    {
     "data": {
      "text/plain": [
       "array([[1419,   33],\n",
       "       [ 330,   24]], dtype=int64)"
      ]
     },
     "execution_count": 63,
     "metadata": {},
     "output_type": "execute_result"
    }
   ],
   "source": [
    "#preparing the confusion matrix and checking:\n",
    "from sklearn.metrics import confusion_matrix\n",
    "confusion_matrix(Ytest, Ypred_logr)"
   ]
  },
  {
   "cell_type": "code",
   "execution_count": 64,
   "id": "4a77ec3f",
   "metadata": {},
   "outputs": [
    {
     "data": {
      "text/plain": [
       "<AxesSubplot:>"
      ]
     },
     "execution_count": 64,
     "metadata": {},
     "output_type": "execute_result"
    },
    {
     "data": {
      "image/png": "[encoded data removed]",
      "text/plain": [
       "<Figure size 640x480 with 2 Axes>"
      ]
     },
     "metadata": {},
     "output_type": "display_data"
    }
   ],
   "source": [
    "sns.heatmap(confusion_matrix(Ytest,Ypred_logr), annot = True)"
   ]
  },
  {
   "cell_type": "code",
   "execution_count": 65,
   "id": "26680375",
   "metadata": {},
   "outputs": [
    {
     "data": {
      "text/plain": [
       "0.7990033222591362"
      ]
     },
     "execution_count": 65,
     "metadata": {},
     "output_type": "execute_result"
    }
   ],
   "source": [
    "#finding the accuracy\n",
    "from sklearn.metrics import accuracy_score\n",
    "accuracy_score(Ytest, Ypred_logr)"
   ]
  },
  {
   "cell_type": "code",
   "execution_count": 66,
   "id": "99db8ca4",
   "metadata": {},
   "outputs": [
    {
     "data": {
      "text/plain": [
       "0.5225346687211094"
      ]
     },
     "execution_count": 66,
     "metadata": {},
     "output_type": "execute_result"
    }
   ],
   "source": [
    "#finding the auc_roc\n",
    "from sklearn.metrics import roc_auc_score\n",
    "roc_auc_score(Ytest, Ypred_logr)"
   ]
  },
  {
   "cell_type": "code",
   "execution_count": 67,
   "id": "5539dfcd",
   "metadata": {},
   "outputs": [
    {
     "name": "stdout",
     "output_type": "stream",
     "text": [
      "              precision    recall  f1-score   support\n",
      "\n",
      "           0       0.81      0.98      0.89      1452\n",
      "           1       0.42      0.07      0.12       354\n",
      "\n",
      "    accuracy                           0.80      1806\n",
      "   macro avg       0.62      0.52      0.50      1806\n",
      "weighted avg       0.73      0.80      0.74      1806\n",
      "\n"
     ]
    }
   ],
   "source": [
    "#looking for the final classification report:\n",
    "from sklearn.metrics import classification_report\n",
    "print(classification_report(Ytest, Ypred_logr))"
   ]
  },
  {
   "cell_type": "code",
   "execution_count": 69,
   "id": "517d68eb",
   "metadata": {},
   "outputs": [
    {
     "data": {
      "text/plain": [
       "<function __main__.estimate_exit(value_arr)>"
      ]
     },
     "execution_count": 69,
     "metadata": {},
     "output_type": "execute_result"
    }
   ],
   "source": [
    "\"\"\"\n",
    "Test your function on the parameter values RowNumber - 25, CustomerId -\n",
    "63445678, Surname - Lokal, CreditScore - 589, Geography - France, Gender -\n",
    "Female, Age - 49, Tenure - 2, Balance - 34567.16, NumOfProducts - 1, HasCrCard -\n",
    "0, IsActiveMember-1, Estimated Salary - 124345.65.\n",
    "\n",
    "ignoring row, custid and surname\n",
    "\"\"\"\n",
    "\n",
    "value_arr = [589,'France', 'Female', 49, 2, 34567.16, 1, 0, 1, 124345.65]\n",
    "\n",
    "def estimate_exit(value_arr):\n",
    "    ans = logr.predict([value_arr])\n",
    "    return ans\n",
    "\n",
    "estimate_exit\n"
   ]
  },
  {
   "cell_type": "code",
   "execution_count": 70,
   "id": "10a60fc2",
   "metadata": {},
   "outputs": [],
   "source": [
    "#MOVING ON TO DECISION TREE MODEL:\n",
    "from sklearn.tree import DecisionTreeClassifier\n",
    "dtc = DecisionTreeClassifier()"
   ]
  },
  {
   "cell_type": "code",
   "execution_count": 71,
   "id": "0296cd04",
   "metadata": {},
   "outputs": [
    {
     "data": {
      "text/plain": [
       "DecisionTreeClassifier()"
      ]
     },
     "execution_count": 71,
     "metadata": {},
     "output_type": "execute_result"
    }
   ],
   "source": [
    "dtc.fit(Xtrain, Ytrain) #training the decision tree model"
   ]
  },
  {
   "cell_type": "code",
   "execution_count": 72,
   "id": "83e07f68",
   "metadata": {},
   "outputs": [
    {
     "data": {
      "text/plain": [
       "array([1, 0, 0, ..., 0, 0, 1], dtype=int64)"
      ]
     },
     "execution_count": 72,
     "metadata": {},
     "output_type": "execute_result"
    }
   ],
   "source": [
    "Ypred_dt = dtc.predict(Xtest)\n",
    "Ypred_dt"
   ]
  },
  {
   "cell_type": "code",
   "execution_count": 73,
   "id": "fb6cff0e",
   "metadata": {},
   "outputs": [
    {
     "data": {
      "text/plain": [
       "array([[1231,  221],\n",
       "       [ 175,  179]], dtype=int64)"
      ]
     },
     "execution_count": 73,
     "metadata": {},
     "output_type": "execute_result"
    }
   ],
   "source": [
    "#ckecking the confusion matrix:\n",
    "confusion_matrix(Ytest, Ypred_dt)"
   ]
  },
  {
   "cell_type": "code",
   "execution_count": 74,
   "id": "03ba0c16",
   "metadata": {},
   "outputs": [
    {
     "data": {
      "text/plain": [
       "<AxesSubplot:>"
      ]
     },
     "execution_count": 74,
     "metadata": {},
     "output_type": "execute_result"
    },
    {
     "data": {
      "image/png": "[encoded data removed]",
      "text/plain": [
       "<Figure size 640x480 with 2 Axes>"
      ]
     },
     "metadata": {},
     "output_type": "display_data"
    }
   ],
   "source": [
    "sns.heatmap(confusion_matrix(Ytest,Ypred_dt), annot = True)"
   ]
  },
  {
   "cell_type": "code",
   "execution_count": 75,
   "id": "79363b67",
   "metadata": {},
   "outputs": [
    {
     "data": {
      "text/plain": [
       "0.7807308970099668"
      ]
     },
     "execution_count": 75,
     "metadata": {},
     "output_type": "execute_result"
    }
   ],
   "source": [
    "#finding the accuracy\n",
    "from sklearn.metrics import accuracy_score\n",
    "accuracy_score(Ytest, Ypred_dt)"
   ]
  },
  {
   "cell_type": "code",
   "execution_count": 76,
   "id": "2243cf21",
   "metadata": {},
   "outputs": [
    {
     "data": {
      "text/plain": [
       "0.6767229303824064"
      ]
     },
     "execution_count": 76,
     "metadata": {},
     "output_type": "execute_result"
    }
   ],
   "source": [
    "#finding the auc_roc\n",
    "from sklearn.metrics import roc_auc_score\n",
    "roc_auc_score(Ytest, Ypred_dt)"
   ]
  },
  {
   "cell_type": "code",
   "execution_count": 77,
   "id": "9ca54ff1",
   "metadata": {},
   "outputs": [
    {
     "name": "stdout",
     "output_type": "stream",
     "text": [
      "              precision    recall  f1-score   support\n",
      "\n",
      "           0       0.88      0.85      0.86      1452\n",
      "           1       0.45      0.51      0.47       354\n",
      "\n",
      "    accuracy                           0.78      1806\n",
      "   macro avg       0.66      0.68      0.67      1806\n",
      "weighted avg       0.79      0.78      0.79      1806\n",
      "\n"
     ]
    }
   ],
   "source": [
    "#looking for the final classification report:\n",
    "from sklearn.metrics import classification_report\n",
    "print(classification_report(Ytest, Ypred_dt))"
   ]
  },
  {
   "cell_type": "code",
   "execution_count": 78,
   "id": "b1f11845",
   "metadata": {},
   "outputs": [],
   "source": [
    "#TRAINING THE DATA FOR RANDOM FOREST:\n",
    "\n",
    "n_est = [10,20,30,40,50,60,70,80,90,100]\n",
    "max_feat = ['sqrt','log2']\n",
    "max_depth = [int(x) for x in np.linspace(10,40,num=12)]\n",
    "min_samples_split = [6,10,15,20]\n",
    "min_samples_leaf = [5,10,12]\n",
    "criterion = ['entropy','gini']"
   ]
  },
  {
   "cell_type": "code",
   "execution_count": 79,
   "id": "d945ac78",
   "metadata": {},
   "outputs": [],
   "source": [
    "#creating the grid:\n",
    "random_grid={\n",
    "    'n_estimators' : n_est,\n",
    "    'max_features' : max_feat,\n",
    "    'max_depth' : max_depth,\n",
    "    'min_samples_split' : min_samples_split,\n",
    "    'min_samples_leaf' : min_samples_leaf,\n",
    "    'criterion' : criterion\n",
    "}"
   ]
  },
  {
   "cell_type": "code",
   "execution_count": 80,
   "id": "d98d9239",
   "metadata": {},
   "outputs": [],
   "source": [
    "#importing the model:\n",
    "from sklearn.ensemble import RandomForestClassifier\n",
    "rfc = RandomForestClassifier()"
   ]
  },
  {
   "cell_type": "code",
   "execution_count": 81,
   "id": "cb5a0d3b",
   "metadata": {},
   "outputs": [],
   "source": [
    "from sklearn.model_selection import RandomizedSearchCV\n",
    "rscv = RandomizedSearchCV(estimator=rfc, param_distributions=random_grid, n_iter=20,cv=5,n_jobs=-1)"
   ]
  },
  {
   "cell_type": "code",
   "execution_count": 82,
   "id": "09412256",
   "metadata": {},
   "outputs": [
    {
     "data": {
      "text/plain": [
       "RandomizedSearchCV(cv=5, estimator=RandomForestClassifier(), n_iter=20,\n",
       "                   n_jobs=-1,\n",
       "                   param_distributions={'criterion': ['entropy', 'gini'],\n",
       "                                        'max_depth': [10, 12, 15, 18, 20, 23,\n",
       "                                                      26, 29, 31, 34, 37, 40],\n",
       "                                        'max_features': ['sqrt', 'log2'],\n",
       "                                        'min_samples_leaf': [5, 10, 12],\n",
       "                                        'min_samples_split': [6, 10, 15, 20],\n",
       "                                        'n_estimators': [10, 20, 30, 40, 50, 60,\n",
       "                                                         70, 80, 90, 100]})"
      ]
     },
     "execution_count": 82,
     "metadata": {},
     "output_type": "execute_result"
    }
   ],
   "source": [
    "rscv.fit(Xtrain, Ytrain)"
   ]
  },
  {
   "cell_type": "code",
   "execution_count": 83,
   "id": "61c6fce8",
   "metadata": {},
   "outputs": [
    {
     "data": {
      "text/plain": [
       "{'n_estimators': 30,\n",
       " 'min_samples_split': 20,\n",
       " 'min_samples_leaf': 10,\n",
       " 'max_features': 'log2',\n",
       " 'max_depth': 29,\n",
       " 'criterion': 'gini'}"
      ]
     },
     "execution_count": 83,
     "metadata": {},
     "output_type": "execute_result"
    }
   ],
   "source": [
    "rscv.best_params_"
   ]
  },
  {
   "cell_type": "code",
   "execution_count": 84,
   "id": "63445122",
   "metadata": {},
   "outputs": [],
   "source": [
    "randomfc = RandomForestClassifier(n_estimators = 30, min_samples_leaf=10, min_samples_split=20, max_features='log2', max_depth=29, criterion= 'gini')"
   ]
  },
  {
   "cell_type": "code",
   "execution_count": 85,
   "id": "97886d23",
   "metadata": {},
   "outputs": [
    {
     "data": {
      "text/plain": [
       "RandomForestClassifier(max_depth=29, max_features='log2', min_samples_leaf=10,\n",
       "                       min_samples_split=20, n_estimators=30)"
      ]
     },
     "execution_count": 85,
     "metadata": {},
     "output_type": "execute_result"
    }
   ],
   "source": [
    "#modelling:\n",
    "randomfc.fit(Xtrain, Ytrain)"
   ]
  },
  {
   "cell_type": "code",
   "execution_count": 86,
   "id": "9f339277",
   "metadata": {},
   "outputs": [],
   "source": [
    "Ypred_rf = randomfc.predict(Xtest)"
   ]
  },
  {
   "cell_type": "code",
   "execution_count": 87,
   "id": "cd1ab29f",
   "metadata": {},
   "outputs": [
    {
     "data": {
      "text/plain": [
       "array([[1401,   51],\n",
       "       [ 207,  147]], dtype=int64)"
      ]
     },
     "execution_count": 87,
     "metadata": {},
     "output_type": "execute_result"
    }
   ],
   "source": [
    "#analysing:\n",
    "confusion_matrix(Ytest, Ypred_rf)"
   ]
  },
  {
   "cell_type": "code",
   "execution_count": 88,
   "id": "2c3554a1",
   "metadata": {},
   "outputs": [
    {
     "data": {
      "text/plain": [
       "<AxesSubplot:>"
      ]
     },
     "execution_count": 88,
     "metadata": {},
     "output_type": "execute_result"
    },
    {
     "data": {
      "image/png": "[encoded data removed]",
      "text/plain": [
       "<Figure size 640x480 with 2 Axes>"
      ]
     },
     "metadata": {},
     "output_type": "display_data"
    }
   ],
   "source": [
    "sns.heatmap(confusion_matrix(Ytest,Ypred_rf), annot = True)"
   ]
  },
  {
   "cell_type": "code",
   "execution_count": 89,
   "id": "6ed3cd1f",
   "metadata": {},
   "outputs": [
    {
     "data": {
      "text/plain": [
       "0.8571428571428571"
      ]
     },
     "execution_count": 89,
     "metadata": {},
     "output_type": "execute_result"
    }
   ],
   "source": [
    "#finding the accuracy\n",
    "from sklearn.metrics import accuracy_score\n",
    "accuracy_score(Ytest, Ypred_rf)"
   ]
  },
  {
   "cell_type": "code",
   "execution_count": 90,
   "id": "1bc34203",
   "metadata": {},
   "outputs": [
    {
     "data": {
      "text/plain": [
       "0.6900651351729934"
      ]
     },
     "execution_count": 90,
     "metadata": {},
     "output_type": "execute_result"
    }
   ],
   "source": [
    "#finding the auc_roc\n",
    "from sklearn.metrics import roc_auc_score\n",
    "roc_auc_score(Ytest, Ypred_rf)"
   ]
  },
  {
   "cell_type": "code",
   "execution_count": 91,
   "id": "28f4e97d",
   "metadata": {},
   "outputs": [
    {
     "name": "stdout",
     "output_type": "stream",
     "text": [
      "              precision    recall  f1-score   support\n",
      "\n",
      "           0       0.87      0.96      0.92      1452\n",
      "           1       0.74      0.42      0.53       354\n",
      "\n",
      "    accuracy                           0.86      1806\n",
      "   macro avg       0.81      0.69      0.72      1806\n",
      "weighted avg       0.85      0.86      0.84      1806\n",
      "\n"
     ]
    }
   ],
   "source": [
    "#looking for the final classification report:\n",
    "from sklearn.metrics import classification_report\n",
    "print(classification_report(Ytest, Ypred_rf))"
   ]
  },
  {
   "cell_type": "code",
   "execution_count": 93,
   "id": "64124af9",
   "metadata": {},
   "outputs": [],
   "source": [
    "#now comparing which values were predicted same by\n",
    "#both random forst and decision tree:\n",
    "\n",
    "test_array = (Ypred_dt == Ypred_rf)"
   ]
  },
  {
   "cell_type": "code",
   "execution_count": 94,
   "id": "23bb2158",
   "metadata": {},
   "outputs": [
    {
     "name": "stdout",
     "output_type": "stream",
     "text": [
      "The number of same values predicted is 1510\n"
     ]
    }
   ],
   "source": [
    "count = 0\n",
    "for i in test_array:\n",
    "    if i:\n",
    "        count += 1\n",
    "\n",
    "print(\"The number of same values predicted is\", count)"
   ]
  },
  {
   "cell_type": "code",
   "execution_count": 99,
   "id": "34a3bea5",
   "metadata": {},
   "outputs": [
    {
     "name": "stdout",
     "output_type": "stream",
     "text": [
      "[0 0 0 ... 0 0 1]\n",
      "[0 0 0 ... 0 0 1]\n",
      "[0 0 0 ... 0 0 0]\n",
      "[0 0 0 ... 0 0 0]\n",
      "[0 0 0 ... 0 0 0]\n"
     ]
    }
   ],
   "source": [
    "#predicting for various threshholds:\n",
    "\n",
    "th_list = [0.4, 0.5, 0.6, 0.7, 0.75]\n",
    "\n",
    "def custom_predict(X, threshold):\n",
    "    probs = logr.predict_proba(X) \n",
    "    return (probs[:, 1] > threshold).astype(int)\n",
    "    \n",
    "for i in th_list: \n",
    "    new_preds = custom_predict(X=Xtest, threshold=i)\n",
    "    print(new_preds)"
   ]
  },
  {
   "cell_type": "code",
   "execution_count": 101,
   "id": "22254a47",
   "metadata": {},
   "outputs": [],
   "source": [
    "new_df = train_df.drop(columns=['EstimatedSalary','Exited'])"
   ]
  },
  {
   "cell_type": "code",
   "execution_count": 102,
   "id": "708228a7",
   "metadata": {},
   "outputs": [],
   "source": [
    "new_df = sc.fit_transform(new_df)"
   ]
  },
  {
   "cell_type": "code",
   "execution_count": 103,
   "id": "1beb9c78",
   "metadata": {},
   "outputs": [
    {
     "data": {
      "text/plain": [
       "array([[-0.32458355, -0.90932218, -1.09964577, ..., -0.91494271,\n",
       "         0.64303168,  0.97088971],\n",
       "       [-0.43810788,  1.50434349, -1.09964577, ..., -0.91494271,\n",
       "        -1.55513334,  0.97088971],\n",
       "       [-1.53206959, -0.90932218, -1.09964577, ...,  2.51541215,\n",
       "         0.64303168, -1.0299831 ],\n",
       "       ...,\n",
       "       [ 1.4918057 , -0.90932218, -1.09964577, ..., -0.91494271,\n",
       "         0.64303168,  0.97088971],\n",
       "       [ 0.28431966,  1.50434349, -1.09964577, ...,  0.80023472,\n",
       "         0.64303168,  0.97088971],\n",
       "       [-0.63419536, -0.90932218,  0.90938376, ..., -0.91494271,\n",
       "         0.64303168, -1.0299831 ]])"
      ]
     },
     "execution_count": 103,
     "metadata": {},
     "output_type": "execute_result"
    }
   ],
   "source": [
    "new_df"
   ]
  },
  {
   "cell_type": "code",
   "execution_count": 105,
   "id": "9ac8057f",
   "metadata": {},
   "outputs": [
    {
     "data": {
      "text/plain": [
       "array([0.14621456, 0.12355932])"
      ]
     },
     "execution_count": 105,
     "metadata": {},
     "output_type": "execute_result"
    }
   ],
   "source": [
    "from sklearn.decomposition import PCA\n",
    "pca = PCA(n_components=2)\n",
    "principal_compo = pca.fit_transform(new_df)\n",
    "pca.explained_variance_ratio_"
   ]
  },
  {
   "cell_type": "code",
   "execution_count": 106,
   "id": "7f2070c3",
   "metadata": {},
   "outputs": [
    {
     "data": {
      "text/plain": [
       "(8194, 9)"
      ]
     },
     "execution_count": 106,
     "metadata": {},
     "output_type": "execute_result"
    }
   ],
   "source": [
    "new_df.shape"
   ]
  },
  {
   "cell_type": "code",
   "execution_count": 108,
   "id": "3e644a57",
   "metadata": {},
   "outputs": [],
   "source": [
    "pca_df = pd.DataFrame(data = principal_compo, columns = ['PC1','PC2'])"
   ]
  },
  {
   "cell_type": "code",
   "execution_count": 110,
   "id": "a89d53b8",
   "metadata": {},
   "outputs": [],
   "source": [
    "final = pd.concat([pca_df, train_df.reset_index()[['EstimatedSalary','Exited']]], axis= 1)"
   ]
  },
  {
   "cell_type": "code",
   "execution_count": 111,
   "id": "df6b8e05",
   "metadata": {},
   "outputs": [
    {
     "data": {
      "text/html": [
       "<div>\n",
       "<style scoped>\n",
       "    .dataframe tbody tr th:only-of-type {\n",
       "        vertical-align: middle;\n",
       "    }\n",
       "\n",
       "    .dataframe tbody tr th {\n",
       "        vertical-align: top;\n",
       "    }\n",
       "\n",
       "    .dataframe thead th {\n",
       "        text-align: right;\n",
       "    }\n",
       "</style>\n",
       "<table border=\"1\" class=\"dataframe\">\n",
       "  <thead>\n",
       "    <tr style=\"text-align: right;\">\n",
       "      <th></th>\n",
       "      <th>PC1</th>\n",
       "      <th>PC2</th>\n",
       "      <th>EstimatedSalary</th>\n",
       "      <th>Exited</th>\n",
       "    </tr>\n",
       "  </thead>\n",
       "  <tbody>\n",
       "    <tr>\n",
       "      <th>0</th>\n",
       "      <td>0.379249</td>\n",
       "      <td>0.898163</td>\n",
       "      <td>101348.88</td>\n",
       "      <td>1</td>\n",
       "    </tr>\n",
       "    <tr>\n",
       "      <th>1</th>\n",
       "      <td>-1.030512</td>\n",
       "      <td>1.782573</td>\n",
       "      <td>112542.58</td>\n",
       "      <td>0</td>\n",
       "    </tr>\n",
       "    <tr>\n",
       "      <th>2</th>\n",
       "      <td>1.030670</td>\n",
       "      <td>-1.068344</td>\n",
       "      <td>113931.57</td>\n",
       "      <td>1</td>\n",
       "    </tr>\n",
       "    <tr>\n",
       "      <th>3</th>\n",
       "      <td>1.454030</td>\n",
       "      <td>0.635026</td>\n",
       "      <td>93826.63</td>\n",
       "      <td>0</td>\n",
       "    </tr>\n",
       "    <tr>\n",
       "      <th>4</th>\n",
       "      <td>-1.352463</td>\n",
       "      <td>1.769567</td>\n",
       "      <td>79084.10</td>\n",
       "      <td>0</td>\n",
       "    </tr>\n",
       "    <tr>\n",
       "      <th>...</th>\n",
       "      <td>...</td>\n",
       "      <td>...</td>\n",
       "      <td>...</td>\n",
       "      <td>...</td>\n",
       "    </tr>\n",
       "    <tr>\n",
       "      <th>8189</th>\n",
       "      <td>1.174462</td>\n",
       "      <td>2.275331</td>\n",
       "      <td>49054.10</td>\n",
       "      <td>0</td>\n",
       "    </tr>\n",
       "    <tr>\n",
       "      <th>8190</th>\n",
       "      <td>0.977279</td>\n",
       "      <td>2.150727</td>\n",
       "      <td>80593.49</td>\n",
       "      <td>1</td>\n",
       "    </tr>\n",
       "    <tr>\n",
       "      <th>8191</th>\n",
       "      <td>-0.730841</td>\n",
       "      <td>1.142175</td>\n",
       "      <td>183044.86</td>\n",
       "      <td>0</td>\n",
       "    </tr>\n",
       "    <tr>\n",
       "      <th>8192</th>\n",
       "      <td>1.078982</td>\n",
       "      <td>1.903307</td>\n",
       "      <td>159938.82</td>\n",
       "      <td>0</td>\n",
       "    </tr>\n",
       "    <tr>\n",
       "      <th>8193</th>\n",
       "      <td>0.342857</td>\n",
       "      <td>-1.194642</td>\n",
       "      <td>95483.48</td>\n",
       "      <td>1</td>\n",
       "    </tr>\n",
       "  </tbody>\n",
       "</table>\n",
       "<p>8194 rows × 4 columns</p>\n",
       "</div>"
      ],
      "text/plain": [
       "           PC1       PC2  EstimatedSalary  Exited\n",
       "0     0.379249  0.898163        101348.88       1\n",
       "1    -1.030512  1.782573        112542.58       0\n",
       "2     1.030670 -1.068344        113931.57       1\n",
       "3     1.454030  0.635026         93826.63       0\n",
       "4    -1.352463  1.769567         79084.10       0\n",
       "...        ...       ...              ...     ...\n",
       "8189  1.174462  2.275331         49054.10       0\n",
       "8190  0.977279  2.150727         80593.49       1\n",
       "8191 -0.730841  1.142175        183044.86       0\n",
       "8192  1.078982  1.903307        159938.82       0\n",
       "8193  0.342857 -1.194642         95483.48       1\n",
       "\n",
       "[8194 rows x 4 columns]"
      ]
     },
     "execution_count": 111,
     "metadata": {},
     "output_type": "execute_result"
    }
   ],
   "source": [
    "final"
   ]
  },
  {
   "cell_type": "code",
   "execution_count": 1,
   "id": "490c312d",
   "metadata": {},
   "outputs": [],
   "source": [
    "#Hence after multiple model analysis, we can compare the various models for best suitablility for the dataset.\n",
    "#We can easily select the model which provides the most accuracy and deploy the same."
   ]
  }
 ],
 "metadata": {
  "kernelspec": {
   "display_name": "Python 3 (ipykernel)",
   "language": "python",
   "name": "python3"
  },
  "language_info": {
   "codemirror_mode": {
    "name": "ipython",
    "version": 3
   },
   "file_extension": ".py",
   "mimetype": "text/x-python",
   "name": "python",
   "nbconvert_exporter": "python",
   "pygments_lexer": "ipython3",
   "version": "3.9.12"
  }
 },
 "nbformat": 4,
 "nbformat_minor": 5
}
